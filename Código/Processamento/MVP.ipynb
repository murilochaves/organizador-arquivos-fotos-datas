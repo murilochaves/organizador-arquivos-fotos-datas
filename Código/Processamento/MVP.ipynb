{
 "cells": [
  {
   "attachments": {},
   "cell_type": "markdown",
   "metadata": {},
   "source": [
    "### **`MVP` do Organizador de arquivos/fotos**"
   ]
  },
  {
   "attachments": {},
   "cell_type": "markdown",
   "metadata": {},
   "source": [
    "> **Bibliotecas**:"
   ]
  },
  {
   "cell_type": "code",
   "execution_count": 75,
   "metadata": {},
   "outputs": [],
   "source": [
    "import os  # diretórios\n",
    "import datetime  # datas\n",
    "import shutil  # movimentações\n"
   ]
  },
  {
   "attachments": {},
   "cell_type": "markdown",
   "metadata": {},
   "source": [
    "> **Diretórios**:"
   ]
  },
  {
   "cell_type": "code",
   "execution_count": 96,
   "metadata": {},
   "outputs": [
    {
     "name": "stdout",
     "output_type": "stream",
     "text": [
      "De:\n",
      "\tc:\\Users\\muril\\Documents\\github\\organizador-arquivos\\Código\\Entrada \n",
      "\n",
      "Para:\n",
      "\tc:\\Users\\muril\\Documents\\github\\organizador-arquivos\\Código\\Saída\n"
     ]
    }
   ],
   "source": [
    "# Caminho do respectivo arquivo\n",
    "dir_arquivo = os.getcwd()\n",
    "\n",
    "# Caminho do projeto\n",
    "dir_projeto = os.path.dirname(dir_arquivo)\n",
    "\n",
    "# Diretório de entrada\n",
    "dir_entrada = os.path.join(dir_projeto, 'Entrada')\n",
    "\n",
    "# Diretório de saída\n",
    "dir_saida = os.path.join(dir_projeto, 'Saída')\n",
    "\n",
    "# Informativo\n",
    "print(f'De:\\n\\t{dir_entrada} \\n\\nPara:\\n\\t{dir_saida}')\n"
   ]
  },
  {
   "attachments": {},
   "cell_type": "markdown",
   "metadata": {},
   "source": [
    "> **Limpeza**:\n"
   ]
  },
  {
   "cell_type": "code",
   "execution_count": 94,
   "metadata": {},
   "outputs": [],
   "source": [
    "# Validação para evitar remover os dados\n",
    "if False:\n",
    "\n",
    "    # Iterando os arquivos da saída\n",
    "    for arquivo in os.listdir(dir_saida):\n",
    "\n",
    "        # Caminho auxiliar\n",
    "        caminho_aux = os.path.join(dir_saida, arquivo)\n",
    "\n",
    "        # Arquivo\n",
    "        if os.path.isfile(caminho_aux):\n",
    "\n",
    "            # Deletando arquivo\n",
    "            os.remove(caminho_aux)\n",
    "        \n",
    "        # Diretório\n",
    "        else:\n",
    "\n",
    "            # Deletando diretório\n",
    "            shutil.rmtree(caminho_aux)\n"
   ]
  },
  {
   "attachments": {},
   "cell_type": "markdown",
   "metadata": {},
   "source": [
    "> **Processamento**:"
   ]
  },
  {
   "cell_type": "code",
   "execution_count": 95,
   "metadata": {},
   "outputs": [
    {
     "name": "stdout",
     "output_type": "stream",
     "text": [
      "Ok!\n"
     ]
    }
   ],
   "source": [
    "def get_data(datas):\n",
    "    '''\n",
    "    Realiza a coleta das datas do arquivo.\n",
    "    '''\n",
    "\n",
    "    # Datas auxiliares\n",
    "    datas_auxiliares = []\n",
    "\n",
    "    # Para cada data\n",
    "    for data in datas:\n",
    "\n",
    "        # Data formatada\n",
    "        data = datetime.datetime.fromtimestamp(data).strftime('%Y-%m-%d')\n",
    "\n",
    "        # Adicionando a data convertida\n",
    "        datas_auxiliares.append(data)\n",
    "\n",
    "    # Ordenando as datas\n",
    "    datas = sorted(datas_auxiliares)\n",
    "\n",
    "    return datas\n",
    "\n",
    "# Arquivos\n",
    "arquivos = os.listdir(dir_entrada)\n",
    "\n",
    "# Para cada arquivo\n",
    "for arquivo in arquivos:\n",
    "\n",
    "    # Caminho auxiliar\n",
    "    caminho_entrada = os.path.join(dir_entrada, arquivo)\n",
    "\n",
    "    # informações do arquivo\n",
    "    arquivo_info = os.stat(caminho_entrada)\n",
    "\n",
    "    # Datas\n",
    "    datas = [\n",
    "        arquivo_info.st_atime,\n",
    "        arquivo_info.st_mtime,\n",
    "        arquivo_info.st_ctime,\n",
    "    ]\n",
    "\n",
    "    # Convertendo as datas\n",
    "    min_data = get_data(datas)[0]\n",
    "\n",
    "    # Data fracionada\n",
    "    data_fracionada = min_data.split('-')\n",
    "\n",
    "    # Caminho da saída\n",
    "    caminho_saida = os.path.join(\n",
    "        dir_saida, \n",
    "        f'{data_fracionada[0]}', \n",
    "        f'{data_fracionada[0]}-{data_fracionada[1]}',\n",
    "        f'{min_data}',\n",
    "    )\n",
    "\n",
    "    # Verificando existência do \n",
    "    if not os.path.exists(caminho_saida):\n",
    "\n",
    "        # Criando caminho\n",
    "        os.makedirs(caminho_saida)\n",
    "\n",
    "    # Extensão\n",
    "    extensao = arquivo.split('.')[-1]\n",
    "\n",
    "    # Auxiliar de contador\n",
    "    contador_auxiliar = 1\n",
    "\n",
    "    # E se o arquivo já existir?\n",
    "    while f'{min_data} ({contador_auxiliar}).{extensao}' in os.listdir(caminho_saida):\n",
    "\n",
    "        # Incrementando o contador\n",
    "        contador_auxiliar += 1\n",
    "        \n",
    "    # Movendo os arquivos\n",
    "    shutil.move(\n",
    "        caminho_entrada, \n",
    "        f'{caminho_saida}/{min_data} ({contador_auxiliar}).{extensao}'\n",
    "    )\n",
    "\n",
    "# Informativo\n",
    "print('Ok!')\n"
   ]
  },
  {
   "cell_type": "code",
   "execution_count": null,
   "metadata": {},
   "outputs": [],
   "source": []
  }
 ],
 "metadata": {
  "kernelspec": {
   "display_name": "base",
   "language": "python",
   "name": "python3"
  },
  "language_info": {
   "codemirror_mode": {
    "name": "ipython",
    "version": 3
   },
   "file_extension": ".py",
   "mimetype": "text/x-python",
   "name": "python",
   "nbconvert_exporter": "python",
   "pygments_lexer": "ipython3",
   "version": "3.11.4"
  },
  "orig_nbformat": 4
 },
 "nbformat": 4,
 "nbformat_minor": 2
}
