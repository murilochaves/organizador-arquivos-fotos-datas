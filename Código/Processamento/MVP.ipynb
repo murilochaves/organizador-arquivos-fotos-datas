{
 "cells": [
  {
   "attachments": {},
   "cell_type": "markdown",
   "metadata": {},
   "source": [
    "### **`MVP` para o Organizador de arquivos**"
   ]
  },
  {
   "attachments": {},
   "cell_type": "markdown",
   "metadata": {},
   "source": [
    "> **Bibliotecas**:"
   ]
  },
  {
   "cell_type": "code",
   "execution_count": 1,
   "metadata": {},
   "outputs": [],
   "source": [
    "import os  # navegação em diretórios\n",
    "import shutil  # remoção diretórios\n",
    "import datetime  # manipualções de datas\n",
    "import re  # expressões regulares\n"
   ]
  },
  {
   "attachments": {},
   "cell_type": "markdown",
   "metadata": {},
   "source": [
    "> **Desenvolvimento**:"
   ]
  },
  {
   "attachments": {},
   "cell_type": "markdown",
   "metadata": {},
   "source": [
    "* `Caminhos`:"
   ]
  },
  {
   "cell_type": "code",
   "execution_count": 2,
   "metadata": {},
   "outputs": [
    {
     "name": "stdout",
     "output_type": "stream",
     "text": [
      "Os dados de:\n",
      "\tc:\\Users\\muril\\Documents\\github\\organizador-arquivos\\Código\\Entrada\n",
      "\n",
      "Vão serem formatados para:\n",
      "\tc:\\Users\\muril\\Documents\\github\\organizador-arquivos\\Código\\Saída\n"
     ]
    }
   ],
   "source": [
    "# Caminho do arquivo em questão\n",
    "dir_arquivo = os.getcwd()\n",
    "\n",
    "# Caminho do projeto\n",
    "dir_projeto = os.path.dirname(dir_arquivo)\n",
    "\n",
    "# Caminho da pasta da entrada\n",
    "dir_entrada = os.path.join(dir_projeto, 'Entrada')\n",
    "\n",
    "# Caminho da pasta de saída\n",
    "dir_saida = os.path.join(dir_projeto, 'Saída')\n",
    "\n",
    "# Informativo\n",
    "print(f'Os dados de:\\n\\t{dir_entrada}\\n\\nVão serem formatados para:\\n\\t{dir_saida}')"
   ]
  },
  {
   "attachments": {},
   "cell_type": "markdown",
   "metadata": {},
   "source": [
    "* `Removendo processados anteriormente`:"
   ]
  },
  {
   "cell_type": "code",
   "execution_count": 36,
   "metadata": {},
   "outputs": [],
   "source": [
    "# Iterando os arquivos da saída\n",
    "for arquivo in os.listdir(dir_saida):\n",
    "\n",
    "    # Criando auxiliar do caminho do arquivo\n",
    "    caminho_temp = os.path.join(dir_saida, arquivo)\n",
    "\n",
    "    # Se for um arquivo\n",
    "    if os.path.isfile(caminho_temp):\n",
    "\n",
    "        # Removendo arquivo\n",
    "        os.remove(caminho_temp)\n",
    "    \n",
    "    else:\n",
    "\n",
    "        # Removendo diretório\n",
    "        shutil.rmtree(caminho_temp)\n"
   ]
  },
  {
   "attachments": {},
   "cell_type": "markdown",
   "metadata": {},
   "source": [
    "* `Movendo os arquivos formatados para a saída`:"
   ]
  },
  {
   "cell_type": "code",
   "execution_count": 39,
   "metadata": {},
   "outputs": [],
   "source": [
    "# Lista de arquivos da entrada\n",
    "arquivos_entrada = os.listdir(dir_entrada)\n",
    "\n",
    "# Iterando os arquivos da entrada\n",
    "for arquivo in arquivos_entrada:\n",
    "\n",
    "    # Criando auxiliar do caminho do arquivo\n",
    "    caminho_temp_entrada = os.path.join(dir_entrada, arquivo)\n",
    "\n",
    "    # Informações\n",
    "    arquivo_info = os.stat(caminho_temp_entrada)\n",
    "\n",
    "    # Data da criação\n",
    "    arquivo_criacao = arquivo_info.st_mtime\n",
    "\n",
    "    # Convertendo para datetime\n",
    "    arquivo_criacao = datetime.datetime.fromtimestamp(arquivo_criacao)\n",
    "\n",
    "    # String de formatação\n",
    "    string_formatada = arquivo_criacao.strftime('%Y-%m-%d às %Hh%M')\n",
    "\n",
    "    # Extensão do arquivo\n",
    "    extensao = os.path.splitext(arquivo)[1]\n",
    "\n",
    "    # String completa\n",
    "    string_formatada = f'{string_formatada} (1) {extensao}'\n",
    "\n",
    "    # Criando o caminho auxiliar da saída\n",
    "    caminho_temp_saida = os.path.join(dir_saida, string_formatada)\n",
    "\n",
    "    # Variáveis auxiliares do nome\n",
    "    aux_contagem = 2\n",
    "\n",
    "    # E se já existir?\n",
    "    while string_formatada in os.listdir(dir_saida):\n",
    "\n",
    "        # Removendo contador, se existir\n",
    "        string_formatada = re.sub(r'\\s\\(\\d+\\)', '', string_formatada)\n",
    "\n",
    "        # Fatiando a string\n",
    "        string_formatada = string_formatada.split('.')\n",
    "\n",
    "        # Removendo espaço da primeira posição\n",
    "        if string_formatada[0][-1] == ' ':\n",
    "\n",
    "            # Reescrevendo\n",
    "            string_formatada[0] = string_formatada[0][:-1]\n",
    "\n",
    "        # Adicionando incremento\n",
    "        string_formatada.insert(1, f' ({aux_contagem}).')\n",
    "\n",
    "        # Concatenando a string\n",
    "        string_formatada = ''.join(string_formatada)\n",
    "\n",
    "        # Criando o caminho auxiliar da saída\n",
    "        caminho_temp_saida = os.path.join(dir_saida, string_formatada)\n",
    "\n",
    "        # Incrementando variável\n",
    "        aux_contagem += 1\n",
    "\n",
    "    # Copiando para a pasta de destino\n",
    "    shutil.move(caminho_temp_entrada, caminho_temp_saida)\n"
   ]
  },
  {
   "cell_type": "code",
   "execution_count": null,
   "metadata": {},
   "outputs": [],
   "source": []
  }
 ],
 "metadata": {
  "kernelspec": {
   "display_name": "base",
   "language": "python",
   "name": "python3"
  },
  "language_info": {
   "codemirror_mode": {
    "name": "ipython",
    "version": 3
   },
   "file_extension": ".py",
   "mimetype": "text/x-python",
   "name": "python",
   "nbconvert_exporter": "python",
   "pygments_lexer": "ipython3",
   "version": "3.10.9"
  },
  "orig_nbformat": 4
 },
 "nbformat": 4,
 "nbformat_minor": 2
}
